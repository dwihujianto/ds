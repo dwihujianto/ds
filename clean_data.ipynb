{
 "cells": [
  {
   "cell_type": "code",
   "execution_count": 2,
   "metadata": {},
   "outputs": [],
   "source": [
    "# Import necessary libraries\n",
    "import pandas as pd\n",
    "import numpy as np\n",
    "import matplotlib.pyplot as plt\n",
    "import seaborn as sns\n",
    "from sklearn.preprocessing import StandardScaler, OneHotEncoder\n",
    "from sklearn.impute import SimpleImputer"
   ]
  },
  {
   "cell_type": "code",
   "execution_count": 3,
   "metadata": {},
   "outputs": [
    {
     "name": "stdout",
     "output_type": "stream",
     "text": [
      "Original DataFrame:\n",
      "    age   income gender  education  satisfaction customer_id signup_date\n",
      "0  25.0  50000.0      M  Bachelors           7.0        C001  2023-01-15\n",
      "1  30.0  70000.0      F    Masters           8.0        C002  2023-03-20\n",
      "2   NaN  60000.0      M        PhD           5.0        C003  2022-12-05\n",
      "3  22.0      NaN      F  Bachelors           9.0        C004  2023-02-10\n",
      "4  35.0  80000.0      F        NaN           6.0        C005  2023-05-22\n",
      "\n",
      "DataFrame Info:\n",
      "<class 'pandas.core.frame.DataFrame'>\n",
      "RangeIndex: 10 entries, 0 to 9\n",
      "Data columns (total 7 columns):\n",
      " #   Column        Non-Null Count  Dtype  \n",
      "---  ------        --------------  -----  \n",
      " 0   age           8 non-null      float64\n",
      " 1   income        8 non-null      float64\n",
      " 2   gender        8 non-null      object \n",
      " 3   education     8 non-null      object \n",
      " 4   satisfaction  9 non-null      float64\n",
      " 5   customer_id   10 non-null     object \n",
      " 6   signup_date   10 non-null     object \n",
      "dtypes: float64(3), object(4)\n",
      "memory usage: 692.0+ bytes\n",
      "None\n"
     ]
    }
   ],
   "source": [
    "# Create a sample messy dataset\n",
    "data = {\n",
    "    'age': [25, 30, np.nan, 22, 35, 45, np.nan, 50, 32, 28],\n",
    "    'income': [50000, 70000, 60000, np.nan, 80000, 90000, 55000, np.nan, 72000, 63000],\n",
    "    'gender': ['M', 'F', 'M', 'F', 'F', 'M', np.nan, 'M', 'F', np.nan],\n",
    "    'education': ['Bachelors', 'Masters', 'PhD', 'Bachelors', np.nan, 'Masters', 'PhD', 'Bachelors', np.nan, 'Masters'],\n",
    "    'satisfaction': [7, 8, 5, 9, 6, 3, 8, 10, 7, np.nan],\n",
    "    'customer_id': ['C001', 'C002', 'C003', 'C004', 'C005', 'C006', 'C007', 'C008', 'C009', 'C010'],\n",
    "    'signup_date': ['2023-01-15', '2023-03-20', '2022-12-05', '2023-02-10', '2023-05-22', \n",
    "                    '2023-04-30', '2023-01-25', '2022-11-15', '2023-06-07', '2023-03-12']\n",
    "}\n",
    "\n",
    "df = pd.DataFrame(data)\n",
    "print(\"Original DataFrame:\")\n",
    "print(df.head())\n",
    "print(\"\\nDataFrame Info:\")\n",
    "print(df.info())"
   ]
  },
  {
   "cell_type": "code",
   "execution_count": 4,
   "metadata": {},
   "outputs": [
    {
     "name": "stdout",
     "output_type": "stream",
     "text": [
      "\n",
      " After date conversion:\n",
      "0   2023-01-15\n",
      "1   2023-03-20\n",
      "2   2022-12-05\n",
      "3   2023-02-10\n",
      "4   2023-05-22\n",
      "Name: signup_date, dtype: datetime64[ns]\n"
     ]
    }
   ],
   "source": [
    "# Step 1: Handle date columns - convert to datetime\n",
    "df['signup_date'] = pd.to_datetime(df['signup_date'])\n",
    "print(\"\\n After date conversion:\")\n",
    "print(df['signup_date'].head())"
   ]
  },
  {
   "cell_type": "code",
   "execution_count": 5,
   "metadata": {},
   "outputs": [
    {
     "name": "stdout",
     "output_type": "stream",
     "text": [
      "\n",
      "Missing values per column:\n",
      "age             2\n",
      "income          2\n",
      "gender          2\n",
      "education       2\n",
      "satisfaction    1\n",
      "customer_id     0\n",
      "signup_date     0\n",
      "dtype: int64\n"
     ]
    }
   ],
   "source": [
    "# Step 2: Check for missing values\n",
    "print(\"\\nMissing values per column:\")\n",
    "print(df.isnull().sum())"
   ]
  }
 ],
 "metadata": {
  "kernelspec": {
   "display_name": ".venv",
   "language": "python",
   "name": "python3"
  },
  "language_info": {
   "codemirror_mode": {
    "name": "ipython",
    "version": 3
   },
   "file_extension": ".py",
   "mimetype": "text/x-python",
   "name": "python",
   "nbconvert_exporter": "python",
   "pygments_lexer": "ipython3",
   "version": "3.13.1"
  }
 },
 "nbformat": 4,
 "nbformat_minor": 2
}
